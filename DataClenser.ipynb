{
 "cells": [
  {
   "cell_type": "code",
   "execution_count": 2,
   "metadata": {},
   "outputs": [],
   "source": [
    "# Data cleaning functions for removing URLs, hötömölö, punctuation, emojis, correct spellings, \n",
    "# turn everything into lower case\n",
    "# Data cleaning copied from https://www.kaggle.com/shahules/basic-eda-cleaning-and-glove"
   ]
  },
  {
   "cell_type": "code",
   "execution_count": 1,
   "metadata": {},
   "outputs": [],
   "source": [
    "# Data cleaning copied from https://www.kaggle.com/shahules/basic-eda-cleaning-and-glove\n",
    "import re\n",
    "def remove_URL(text):\n",
    "    url = re.compile(r'https?://\\S+|www\\.\\S+')\n",
    "    return url.sub(r'',text)\n",
    "\n",
    "#example=\"tää on emiserkki: https://dillindallin.com\"\n",
    "#remove_URL(example)"
   ]
  },
  {
   "cell_type": "code",
   "execution_count": 2,
   "metadata": {},
   "outputs": [],
   "source": [
    "\n",
    "def remove_html(text):\n",
    "    html=re.compile(r'<.*?>')\n",
    "    return html.sub(r'',text)\n",
    "\n",
    "#example = \"\"\"<div>\n",
    "#<h1>Dillindallin</h1>\n",
    "#<div>Daalia </div>\n",
    "#<a href=\"https://www.kaggle.com/c/nlp-getting-started\">getting started</a>\n",
    "#</div>\"\"\"\n",
    "#print(remove_html(example))\n"
   ]
  },
  {
   "cell_type": "code",
   "execution_count": 3,
   "metadata": {},
   "outputs": [],
   "source": [
    "# Reference : https://gist.github.com/slowkow/7a7f61f495e3dbb7e3d767f97bd7304b\n",
    "def remove_emoji(text, tests=True):\n",
    "    emoji_pattern = re.compile(\"[\"\n",
    "                           u\"\\U0001F600-\\U0001F64F\"  # emoticons\n",
    "                           u\"\\U0001F300-\\U0001F5FF\"  # symbols & pictographs\n",
    "                           u\"\\U0001F680-\\U0001F6FF\"  # transport & map symbols\n",
    "                           u\"\\U0001F1E0-\\U0001F1FF\"  # flags (iOS)\n",
    "                           u\"\\U00002702-\\U000027B0\"\n",
    "                           u\"\\U000024C2-\\U0001F251\"\n",
    "                           \"]+\", flags=re.UNICODE)\n",
    "    return emoji_pattern.sub(r'', text)\n",
    "\n",
    "#remove_emoji(\"Huba haba😔😔\")"
   ]
  },
  {
   "cell_type": "code",
   "execution_count": 4,
   "metadata": {},
   "outputs": [],
   "source": [
    "import string\n",
    "def remove_punct(text, tests=True):\n",
    "    table=str.maketrans('','',string.punctuation)\n",
    "    return text.translate(table)\n",
    "\n",
    "#example=\"What shall we do today... #zequestion\"\n",
    "#print(remove_punct(example))"
   ]
  },
  {
   "cell_type": "code",
   "execution_count": 5,
   "metadata": {},
   "outputs": [
    {
     "name": "stdout",
     "output_type": "stream",
     "text": [
      "Requirement already satisfied: pyspellchecker in /Users/marttiylikoski/opt/anaconda3/lib/python3.7/site-packages (0.5.4)\r\n"
     ]
    }
   ],
   "source": [
    "!pip install pyspellchecker\n",
    "from spellchecker import SpellChecker\n",
    "\n",
    "spell = SpellChecker()\n",
    "def correct_spellings(text):\n",
    "    corrected_text = []\n",
    "    misspelled_words = spell.unknown(text.split())\n",
    "    for word in text.split():\n",
    "        if word in misspelled_words:\n",
    "            corrected_text.append(spell.correction(word))\n",
    "        else:\n",
    "            corrected_text.append(word)\n",
    "    return \" \".join(corrected_text)\n",
    "        \n",
    "#text = \"corect me plese\"\n",
    "#correct_spellings(text)"
   ]
  },
  {
   "cell_type": "code",
   "execution_count": 3,
   "metadata": {},
   "outputs": [
    {
     "data": {
      "text/plain": [
       "'many correct plese'"
      ]
     },
     "execution_count": 3,
     "metadata": {},
     "output_type": "execute_result"
    }
   ],
   "source": [
    "from nltk.corpus import stopwords\n",
    "stop=set(stopwords.words('english'))\n",
    "\n",
    "def remove_stopwords(text):\n",
    "    STOPWORDS = set(stopwords.words('english'))\n",
    "    text =  ' '.join([word for word in text.split() if word not in STOPWORDS]) # delete stopwords from text\n",
    "    return text\n",
    "\n",
    "texti = \"in the a and many correct me plese\"\n",
    "remove_stopwords(texti)\n"
   ]
  },
  {
   "cell_type": "code",
   "execution_count": 10,
   "metadata": {},
   "outputs": [
    {
     "data": {
      "text/plain": [
       "' in the and many correct me plese'"
      ]
     },
     "execution_count": 10,
     "metadata": {},
     "output_type": "execute_result"
    }
   ],
   "source": [
    "#Remove single characters\n",
    "\n",
    "def remove_single_chars(text):\n",
    "    new_text = \"\"\n",
    "    for w in text.split():\n",
    "        if len(w) > 1:\n",
    "            new_text = new_text + \" \" + w    \n",
    "            \n",
    "    return new_text\n",
    "\n",
    "texti = \"in the a i y o  and many correct me plese\"\n",
    "remove_single_chars(texti)"
   ]
  },
  {
   "cell_type": "code",
   "execution_count": 13,
   "metadata": {},
   "outputs": [
    {
     "data": {
      "text/plain": [
       "' swim swamp ha to be'"
      ]
     },
     "execution_count": 13,
     "metadata": {},
     "output_type": "execute_result"
    }
   ],
   "source": [
    "from nltk.stem import PorterStemmer\n",
    "from nltk.tokenize import sent_tokenize, word_tokenize\n",
    "\n",
    "def stemming(text):\n",
    "    stemmer = PorterStemmer()\n",
    "    new_text = \"\"\n",
    "    for w in text.split():\n",
    "        new_text = new_text + \" \" + stemmer.stem(w)    \n",
    "            \n",
    "    return new_text\n",
    "    \n",
    "stemming(\"swimming swamping has to be\")    "
   ]
  },
  {
   "cell_type": "code",
   "execution_count": 11,
   "metadata": {},
   "outputs": [],
   "source": [
    "def text_clense(text, tests=False):\n",
    "    text=remove_URL(text)\n",
    "    text=remove_html(text)\n",
    "    text=remove_emoji(text)\n",
    "    text=remove_punct(text)\n",
    "    text = text.lower()\n",
    "    text = remove_stopwords(text)\n",
    "    text = remove_single_chars(text)\n",
    "    text = stemming(text)\n",
    "    return text\n"
   ]
  },
  {
   "cell_type": "code",
   "execution_count": 12,
   "metadata": {},
   "outputs": [
    {
     "name": "stdout",
     "output_type": "stream",
     "text": [
      "tää on emiserkki: https://dillindallin.com\n",
      "Huba haba\n",
      "What shall we do today zequestion\n",
      "correct me please\n",
      "haa hee ja jee  \n"
     ]
    }
   ],
   "source": [
    "import sys\n",
    "\n",
    "tests = False\n",
    "\n",
    "if (tests == True):\n",
    "    example=\"tää on emiserkki: https://dillindallin.com\"\n",
    "    remove_URL(example)\n",
    "    text = \"\"\"<div>\n",
    "    <h1>Dillindallin</h1>\n",
    "    <div>Daalia </div>\n",
    "    <a href=\"https://www.kaggle.com/c/nlp-getting-started\">getting started</a>\n",
    "    </div>\"\"\"\n",
    "    print(remove_html(example))\n",
    "    print(remove_emoji(\"Huba haba😔😔\"))\n",
    "    example=\"What shall we do today... #zequestion\"\n",
    "    print(remove_punct(example))\n",
    "    text = \"corect me plese\"\n",
    "    print (correct_spellings(text))\n",
    "    text = \"haa Hee ja Jee... <html><div></div></html> https://dillindallin.com\"\n",
    "    print (text_clense (text))\n"
   ]
  },
  {
   "cell_type": "code",
   "execution_count": null,
   "metadata": {},
   "outputs": [],
   "source": []
  },
  {
   "cell_type": "code",
   "execution_count": null,
   "metadata": {},
   "outputs": [],
   "source": []
  }
 ],
 "metadata": {
  "kernelspec": {
   "display_name": "Python 3",
   "language": "python",
   "name": "python3"
  },
  "language_info": {
   "codemirror_mode": {
    "name": "ipython",
    "version": 3
   },
   "file_extension": ".py",
   "mimetype": "text/x-python",
   "name": "python",
   "nbconvert_exporter": "python",
   "pygments_lexer": "ipython3",
   "version": "3.7.4"
  }
 },
 "nbformat": 4,
 "nbformat_minor": 2
}
